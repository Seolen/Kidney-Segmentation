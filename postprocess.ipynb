{
 "cells": [
  {
   "cell_type": "code",
   "execution_count": 1,
   "metadata": {
    "collapsed": false
   },
   "outputs": [],
   "source": [
    "from scipy.ndimage.morphology import binary_fill_holes, binary_dilation, binary_erosion, generate_binary_structure\n",
    "from skimage.morphology import label\n",
    "import nrrd\n",
    "import numpy as np"
   ]
  },
  {
   "cell_type": "markdown",
   "metadata": {},
   "source": [
    "## Flood Fill"
   ]
  },
  {
   "cell_type": "code",
   "execution_count": 7,
   "metadata": {
    "collapsed": false
   },
   "outputs": [],
   "source": [
    "# vessel, _ = nrrd.read('results/vessel9.nrrd')\n",
    "# dilated = binary_dilation(vessel)\n",
    "# kidney, _ = nrrd.read('results/kidney9.nrrd')\n",
    "# dilated = binary_dilation(kidney)\n",
    "artery, _ = nrrd.read('results/artery9.nrrd')\n",
    "dilated = binary_dilation(artery)"
   ]
  },
  {
   "cell_type": "code",
   "execution_count": 8,
   "metadata": {
    "collapsed": false
   },
   "outputs": [],
   "source": [
    "X, Y, Z = dilated.shape"
   ]
  },
  {
   "cell_type": "code",
   "execution_count": 9,
   "metadata": {
    "collapsed": false
   },
   "outputs": [],
   "source": [
    "x_mat = np.zeros_like(dilated)\n",
    "y_mat = np.zeros_like(dilated)\n",
    "z_mat = np.zeros_like(dilated)"
   ]
  },
  {
   "cell_type": "markdown",
   "metadata": {},
   "source": [
    "Process 3d cube with Flood Fill Algorithm slice by slice"
   ]
  },
  {
   "cell_type": "code",
   "execution_count": 10,
   "metadata": {
    "collapsed": true
   },
   "outputs": [],
   "source": [
    "for x in range(X):\n",
    "    sc = dilated[x,:,:]\n",
    "    filled_sc = binary_fill_holes(sc)\n",
    "    x_mat[x,:,:] = filled_sc"
   ]
  },
  {
   "cell_type": "code",
   "execution_count": 11,
   "metadata": {
    "collapsed": true
   },
   "outputs": [],
   "source": [
    "for y in range(Y):\n",
    "    sc = dilated[:,y,:]\n",
    "    filled_sc = binary_fill_holes(sc)\n",
    "    y_mat[:,y,:] = filled_sc"
   ]
  },
  {
   "cell_type": "code",
   "execution_count": 12,
   "metadata": {
    "collapsed": true
   },
   "outputs": [],
   "source": [
    "for z in range(Z):\n",
    "    sc = dilated[:,:,z]\n",
    "    filled_sc = binary_fill_holes(sc)\n",
    "    z_mat[:,:,z] = filled_sc"
   ]
  },
  {
   "cell_type": "markdown",
   "metadata": {},
   "source": [
    "Fuse models from 3 directions(x,y,z) with and/or operation"
   ]
  },
  {
   "cell_type": "code",
   "execution_count": 13,
   "metadata": {
    "collapsed": false
   },
   "outputs": [],
   "source": [
    "or_mat = np.logical_or(np.logical_or(x_mat, y_mat), z_mat)\n",
    "nrrd.write('results/2d_fill_or_artery9.nrrd', or_mat.astype(np.float))\n",
    "and_mat = np.logical_and(np.logical_and(x_mat, y_mat), z_mat)\n",
    "nrrd.write('results/2d_fill_and_artery9.nrrd', and_mat.astype(np.float))\n",
    "\n",
    "# or_mat = np.logical_or(np.logical_or(x_mat, y_mat), z_mat)\n",
    "# nrrd.write('results/2d_fill_or_kidney9.nrrd', or_mat.astype(np.float))\n",
    "# and_mat = np.logical_and(np.logical_and(x_mat, y_mat), z_mat)\n",
    "# nrrd.write('results/2d_fill_and_kidney9.nrrd', and_mat.astype(np.float))"
   ]
  },
  {
   "cell_type": "code",
   "execution_count": 3,
   "metadata": {
    "collapsed": false
   },
   "outputs": [],
   "source": [
    "# get ablation\n",
    "kidney6, _ = nrrd.read('results/2d_fill_or_kidney6.nrrd')\n",
    "kidney9, _ = nrrd.read('results/2d_fill_or_kidney9.nrrd')\n",
    "ablation_kidney = kidney9 - kidney6\n",
    "ablation_kidney[np.where(ablation_kidney<0)] = 0\n",
    "nrrd.write('results/ablation_kidney.nrrd', ablation_kidney.astype(np.float))"
   ]
  },
  {
   "cell_type": "code",
   "execution_count": 2,
   "metadata": {
    "collapsed": true
   },
   "outputs": [],
   "source": [
    "vessel9, _ = nrrd.read('results/vessel9.nrrd')\n",
    "kidney9, _ = nrrd.read('results/2d_fill_or_kidney9.nrrd')"
   ]
  },
  {
   "cell_type": "code",
   "execution_count": 3,
   "metadata": {
    "collapsed": true
   },
   "outputs": [],
   "source": [
    "# add erosion on kidney to get larger mask\n",
    "kidney9 = binarall_masky_dilation(kidney9)\n",
    "ablation_kidney = (1-kidney9)*vessel9\n",
    "nrrd.write('results/ablation_kidney.nrrd', ablation_kidney.astype(np.float))"
   ]
  },
  {
   "cell_type": "code",
   "execution_count": 4,
   "metadata": {
    "collapsed": true
   },
   "outputs": [],
   "source": [
    "artery, _ = nrrd.read('results/2d_fill_or_artery9.nrrd')"
   ]
  },
  {
   "cell_type": "code",
   "execution_count": 6,
   "metadata": {
    "collapsed": true
   },
   "outputs": [],
   "source": [
    "artery = binary_dilation(artery)\n",
    "ablation_kidney_artery = (1-artery)*ablation_kidney\n",
    "nrrd.write('results/ablation_kidney_artery.nrrd', ablation_kidney_artery.astype(np.float))"
   ]
  },
  {
   "cell_type": "markdown",
   "metadata": {},
   "source": [
    "## Get tiny vessel"
   ]
  },
  {
   "cell_type": "code",
   "execution_count": 2,
   "metadata": {
    "collapsed": true
   },
   "outputs": [],
   "source": [
    "ablation_kidney_artery, _ = nrrd.read('results/ablation_kidney_artery.nrrd')\n",
    "new_mask, num = label(ablation_kidney_artery, neighbors=4, background=None, return_num=True, connectivity=None)\n",
    "order_ind = list()\n",
    "for i in range(num):\n",
    "    inds = np.where(new_mask==i)\n",
    "    mask_size = inds[0].shape[0]\n",
    "    if mask_size > 50:\n",
    "        order_ind.append((i, mask_size))"
   ]
  },
  {
   "cell_type": "code",
   "execution_count": 2,
   "metadata": {
    "collapsed": false
   },
   "outputs": [],
   "source": [
    "all_mask = np.zeros(new_mask.shape)\n",
    "if len(order_ind)>1:\n",
    "    sorted_ind = sorted(order_ind, key=lambda x: x[1], reverse=True)\n",
    "    selected_inds = sorted_ind[4:]\n",
    "    for j in selected_inds:\n",
    "        inds = np.where(new_mask==j[0])\n",
    "        print(inds[0].shape)\n",
    "        all_mask[inds] = 1"
   ]
  },
  {
   "cell_type": "code",
   "execution_count": 5,
   "metadata": {
    "collapsed": true
   },
   "outputs": [],
   "source": [
    "nrrd.write('results/tiny_vessel.nrrd', all_mask.astype(np.float))"
   ]
  }
 ],
 "metadata": {
  "kernelspec": {
   "display_name": "Python 3",
   "language": "python",
   "name": "python3"
  },
  "language_info": {
   "codemirror_mode": {
    "name": "ipython",
    "version": 3
   },
   "file_extension": ".py",
   "mimetype": "text/x-python",
   "name": "python",
   "nbconvert_exporter": "python",
   "pygments_lexer": "ipython3",
   "version": "3.6.5"
  }
 },
 "nbformat": 4,
 "nbformat_minor": 0
}
