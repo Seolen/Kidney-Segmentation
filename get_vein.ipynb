{
 "cells": [
  {
   "cell_type": "code",
   "execution_count": 1,
   "metadata": {
    "collapsed": true
   },
   "outputs": [],
   "source": [
    "from scipy.ndimage.morphology import binary_fill_holes, binary_dilation, binary_erosion, generate_binary_structure\n",
    "from skimage.morphology import label\n",
    "import nrrd\n",
    "import numpy as np"
   ]
  },
  {
   "cell_type": "code",
   "execution_count": 2,
   "metadata": {
    "collapsed": true
   },
   "outputs": [],
   "source": [
    "kidney6, _ = nrrd.read('results/2d_fill_or_kidney6.nrrd')\n",
    "kidney9, _ = nrrd.read('results/2d_fill_or_kidney9.nrrd')"
   ]
  },
  {
   "cell_type": "markdown",
   "metadata": {},
   "source": [
    "## Seperate vein and kidney"
   ]
  },
  {
   "cell_type": "code",
   "execution_count": 5,
   "metadata": {
    "collapsed": true
   },
   "outputs": [],
   "source": [
    "kidney6_dilated = binary_dilation(kidney6)\n",
    "vein1 = kidney9-kidney6_dilated\n",
    "vein1[np.where(vein1<0)] = 0\n",
    "nrrd.write('results/vein1.nrrd', vein1.astype(np.float))"
   ]
  },
  {
   "cell_type": "code",
   "execution_count": 6,
   "metadata": {
    "collapsed": true
   },
   "outputs": [],
   "source": [
    "for i in range(5):\n",
    "    kidney6_dilated = binary_dilation(kidney6_dilated)\n",
    "vein2 = kidney9-kidney6_dilated\n",
    "vein2[np.where(vein2<0)] = 0\n",
    "nrrd.write('results/vein2.nrrd', vein2.astype(np.float))"
   ]
  },
  {
   "cell_type": "code",
   "execution_count": 12,
   "metadata": {
    "collapsed": true
   },
   "outputs": [],
   "source": [
    "new_mask, num = label(vein2, neighbors=4, background=None, return_num=True, connectivity=None)\n",
    "order_ind = list()\n",
    "for i in range(num):\n",
    "    inds = np.where(new_mask==i)\n",
    "    mask_size = inds[0].shape[0]\n",
    "    order_ind.append((i, mask_size))"
   ]
  },
  {
   "cell_type": "code",
   "execution_count": 15,
   "metadata": {
    "collapsed": false
   },
   "outputs": [
    {
     "name": "stdout",
     "output_type": "stream",
     "text": [
      "(14331,)\n"
     ]
    }
   ],
   "source": [
    "all_mask = np.zeros(new_mask.shape)\n",
    "if len(order_ind)>1:\n",
    "    sorted_ind = sorted(order_ind, key=lambda x: x[1], reverse=True)\n",
    "    selected_inds = [sorted_ind[4]]\n",
    "    for j in selected_inds:\n",
    "        inds = np.where(new_mask==j[0])\n",
    "        print(inds[0].shape)\n",
    "        all_mask[inds] = 1"
   ]
  },
  {
   "cell_type": "code",
   "execution_count": 16,
   "metadata": {
    "collapsed": true
   },
   "outputs": [],
   "source": [
    "nrrd.write('results/vein2_cca.nrrd', all_mask.astype(np.float))"
   ]
  },
  {
   "cell_type": "code",
   "execution_count": 20,
   "metadata": {
    "collapsed": true
   },
   "outputs": [],
   "source": [
    "vein1_cca,_ = nrrd.read('results/vein1_cca.nrrd')\n",
    "vein2_cca,_ = nrrd.read('results/vein2_cca.nrrd')"
   ]
  },
  {
   "cell_type": "code",
   "execution_count": 24,
   "metadata": {
    "collapsed": true
   },
   "outputs": [],
   "source": [
    "nrrd.write('results/all_vein.nrrd', (vein1_cca+vein2_cca).astype(np.float))"
   ]
  },
  {
   "cell_type": "code",
   "execution_count": 21,
   "metadata": {
    "collapsed": false
   },
   "outputs": [],
   "source": [
    "vein1_cca = binary_dilation(vein1_cca)\n",
    "vein2_cca = binary_dilation(vein2_cca)\n",
    "only_kidney9 = (1-vein1_cca)*(1-vein2_cca)*kidney9\n",
    "nrrd.write('results/all_kidney9.nrrd', only_kidney9.astype(np.float))"
   ]
  },
  {
   "cell_type": "markdown",
   "metadata": {},
   "source": [
    "## Fusion for artery, tiny vessel and vein"
   ]
  },
  {
   "cell_type": "code",
   "execution_count": null,
   "metadata": {
    "collapsed": true
   },
   "outputs": [],
   "source": [
    "artery, _ = nrrd.read('results/artery9.nrrd')\n",
    "tiny_vessel, _ = nrrd.read('results/tiny_vessel.nrrd')\n",
    "vessel = np.logical_or(np.logical_or(artery, tiny_vessel), vein1_cca+vein2_cca)\n",
    "nrrd.write('results/all_vessel.nrrd', vessel.astype(np.float))"
   ]
  },
  {
   "cell_type": "markdown",
   "metadata": {},
   "source": [
    "## Fusion for vessel and kidney"
   ]
  },
  {
   "cell_type": "code",
   "execution_count": 35,
   "metadata": {
    "collapsed": false
   },
   "outputs": [],
   "source": [
    "all_kidney_vessel = np.zeros(vessel.shape)\n",
    "all_kidney_vessel[np.where(only_kidney9>0)] = 1\n",
    "all_kidney_vessel[np.where(vessel>0)] = 1\n",
    "nrrd.write('results/all_kidney_vessel.nrrd', all_kidney_vessel.astype(np.float))"
   ]
  },
  {
   "cell_type": "code",
   "execution_count": 43,
   "metadata": {
    "collapsed": false
   },
   "outputs": [
    {
     "data": {
      "text/plain": [
       "(167250, 3)"
      ]
     },
     "execution_count": 43,
     "metadata": {},
     "output_type": "execute_result"
    }
   ],
   "source": [
    "index = np.where(vessel>0)\n",
    "index = np.array(index).T\n",
    "index.shape"
   ]
  },
  {
   "cell_type": "code",
   "execution_count": 44,
   "metadata": {
    "collapsed": false
   },
   "outputs": [],
   "source": [
    "with open('vessel_points.xyz', 'w') as wf:\n",
    "    for ind in range(index.shape[0]):\n",
    "        line = str(index[ind][0]) + ' ' + str(index[ind][1]) + ' ' + str(index[ind][2]) +'\\n'\n",
    "        wf.write(line)"
   ]
  },
  {
   "cell_type": "markdown",
   "metadata": {},
   "source": [
    "## Fusion for vessel and kidney and tumor"
   ]
  },
  {
   "cell_type": "code",
   "execution_count": null,
   "metadata": {
    "collapsed": true
   },
   "outputs": [],
   "source": [
    "tumor9, _ = nrrd.read('results/tumor9.nrrd')\n",
    "all_kidney_vessel, _ = nrrd.read('results/all_kidney_vessel.nrrd')\n",
    "all_model = np.logical_or(all_kidney_vessel, tumor9)\n",
    "nrrd.write('results/all_kidney_vessel_tumor.nrrd', all_model.astype(np.float))"
   ]
  },
  {
   "cell_type": "code",
   "execution_count": null,
   "metadata": {
    "collapsed": true
   },
   "outputs": [],
   "source": [
    "index = np.where(vessel>0)\n",
    "index = np.array(index).T\n",
    "index.shape"
   ]
  },
  {
   "cell_type": "code",
   "execution_count": null,
   "metadata": {
    "collapsed": true
   },
   "outputs": [],
   "source": [
    "with open('results/xyz/tumor_points.xyz', 'w') as wf:\n",
    "    for ind in range(index.shape[0]):\n",
    "        line = str(index[ind][0]) + ' ' + str(index[ind][1]) + ' ' + str(index[ind][2]) +'\\n'\n",
    "        wf.write(line)"
   ]
  }
 ],
 "metadata": {
  "kernelspec": {
   "display_name": "Python 3",
   "language": "python",
   "name": "python3"
  },
  "language_info": {
   "codemirror_mode": {
    "name": "ipython",
    "version": 3
   },
   "file_extension": ".py",
   "mimetype": "text/x-python",
   "name": "python",
   "nbconvert_exporter": "python",
   "pygments_lexer": "ipython3",
   "version": "3.6.5"
  }
 },
 "nbformat": 4,
 "nbformat_minor": 0
}
