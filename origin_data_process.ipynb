{
 "cells": [
  {
   "cell_type": "markdown",
   "metadata": {
    "collapsed": false
   },
   "source": [
    "from scipy.io import loadmat\n",
    "import os\n",
    "import pydicom\n",
    "import numpy as np\n",
    "import nrrd\n",
    "from shutil import copyfile\n",
    "root_dir = '/mnt/fba081f4-a1d4-4a05-ae52-ee5234633f20/kidney/data/dicom/'\n",
    "# dlist = os.listdir(data_dir)\n",
    "# dlist.sort()\n",
    "# length = len(dlist)\n",
    "ind_dir = os.listdir('./index')\n"
   ]
  },
  {
   "cell_type": "code",
   "execution_count": 6,
   "metadata": {
    "collapsed": false
   },
   "outputs": [
    {
     "name": "stdout",
     "output_type": "stream",
     "text": [
      "./dirs/5\n",
      "./dirs/6\n",
      "./dirs/1\n",
      "./dirs/2\n",
      "./dirs/3\n",
      "./dirs/7\n",
      "./dirs/9\n",
      "./dirs/4\n",
      "./dirs/10\n",
      "./dirs/8\n"
     ]
    }
   ],
   "source": [
    "for d in ind_dir:\n",
    "    name = d.split('-')[0]  \n",
    "    x = loadmat('./index/'+d)\n",
    "    data = x['ans'][0][0][-1]\n",
    "    length = len(data)\n",
    "    dst = './dirs/'+name\n",
    "    print(dst)\n",
    "    if not os.path.exists(dst):\n",
    "        os.mkdir(dst)\n",
    "    \n",
    "    if length > 2:\n",
    "        cube = []\n",
    "        for i in range(length):\n",
    "            address = root_dir+data[i][0][0].replace('DICOM/', '')\n",
    "#             print(address)\n",
    "            copyfile(address, dst+'/'+address.split('/')[-1])\n",
    "            img = pydicom.dcmread(address).pixel_array\n",
    "            cube.append(img)\n",
    "        #     print(img.shape)\n",
    "        # print()\n",
    "        nrrd.write('./nrrd/'+name+'.nrrd', np.array(cube).transpose(2,1,0))"
   ]
  },
  {
   "cell_type": "code",
   "execution_count": 86,
   "metadata": {
    "collapsed": false
   },
   "outputs": [
    {
     "name": "stdout",
     "output_type": "stream",
     "text": [
      "<class 'numpy.ndarray'>\n",
      "-2048 1610\n"
     ]
    }
   ],
   "source": [
    "from PIL import Image, ImageDraw, ImageFont\n",
    "img = pydicom.dcmread(data_dir+dlist[0]).pixel_array\n",
    "print(type(img))\n",
    "print(img.min(), img.max())\n",
    "# img = (img - img.min()) / (img.max() - img.min())* 255\n",
    "img= Image.fromarray(img)\n",
    "draw = ImageDraw.Draw(img)\n",
    "draw.text((10,10),'12345', fill=(255))\n",
    "img.show()\n",
    "img.save('aa.tiff')"
   ]
  }
 ],
 "metadata": {
  "kernelspec": {
   "display_name": "Python 3",
   "language": "python",
   "name": "python3"
  },
  "language_info": {
   "codemirror_mode": {
    "name": "ipython",
    "version": 3
   },
   "file_extension": ".py",
   "mimetype": "text/x-python",
   "name": "python",
   "nbconvert_exporter": "python",
   "pygments_lexer": "ipython3",
   "version": "3.5.2"
  }
 },
 "nbformat": 4,
 "nbformat_minor": 0
}
